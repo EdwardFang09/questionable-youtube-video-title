{
 "cells": [
  {
   "cell_type": "code",
   "execution_count": 8,
   "metadata": {},
   "outputs": [
    {
     "name": "stderr",
     "output_type": "stream",
     "text": [
      "Setting `pad_token_id` to `eos_token_id`:50256 for open-end generation.\n"
     ]
    },
    {
     "name": "stdout",
     "output_type": "stream",
     "text": [
      "Prompt: george pulls out a carrot\n",
      "george pulls out a carrot and eats it... Animation\n"
     ]
    }
   ],
   "source": [
    "from transformers import AutoModelForCausalLM, AutoTokenizer\n",
    "\n",
    "# Specify the directory where you saved the model\n",
    "model_path = \"EdwardFang09/QuestionableYouTubeVideoTitleV1\" \n",
    "\n",
    "# Load the tokenizer and model\n",
    "tokenizer = AutoTokenizer.from_pretrained(model_path)\n",
    "tokenizer.pad_token_id = tokenizer.eos_token_id \n",
    "model = AutoModelForCausalLM.from_pretrained(model_path)\n",
    "\n",
    "# Now you can use the model for inference (generating text)\n",
    "prompt = str(input(\"Prompt: \"))\n",
    "print(f\"Prompt: {prompt}\")\n",
    "inputs = tokenizer(prompt, return_tensors=\"pt\")\n",
    "generated_text = model.generate(**inputs)\n",
    "print(tokenizer.decode(generated_text[0], skip_special_tokens=True))"
   ]
  }
 ],
 "metadata": {
  "kernelspec": {
   "display_name": ".venv",
   "language": "python",
   "name": "python3"
  },
  "language_info": {
   "codemirror_mode": {
    "name": "ipython",
    "version": 3
   },
   "file_extension": ".py",
   "mimetype": "text/x-python",
   "name": "python",
   "nbconvert_exporter": "python",
   "pygments_lexer": "ipython3",
   "version": "3.11.9"
  }
 },
 "nbformat": 4,
 "nbformat_minor": 2
}
