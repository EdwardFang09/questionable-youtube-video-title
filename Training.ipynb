{
  "cells": [
    {
      "cell_type": "code",
      "execution_count": 1,
      "metadata": {
        "colab": {
          "base_uri": "https://localhost:8080/"
        },
        "id": "nWXg4UTeYuNc",
        "outputId": "0de47c29-c49a-4686-d75b-d46c4b444cd1"
      },
      "outputs": [
        {
          "output_type": "execute_result",
          "data": {
            "text/plain": [
              "device(type='cuda')"
            ]
          },
          "metadata": {},
          "execution_count": 1
        }
      ],
      "source": [
        "import torch  # Import torch\n",
        "device = torch.device(\"cuda\" if torch.cuda.is_available() else \"cpu\")\n",
        "device"
      ]
    },
    {
      "cell_type": "code",
      "source": [
        "!nvidia-smi"
      ],
      "metadata": {
        "colab": {
          "base_uri": "https://localhost:8080/"
        },
        "id": "0tirg-0iY2P_",
        "outputId": "2fcc1b51-8e42-43dc-e3d6-7b7d5f33c999"
      },
      "execution_count": 3,
      "outputs": [
        {
          "output_type": "stream",
          "name": "stdout",
          "text": [
            "Wed Dec 11 15:45:46 2024       \n",
            "+---------------------------------------------------------------------------------------+\n",
            "| NVIDIA-SMI 535.104.05             Driver Version: 535.104.05   CUDA Version: 12.2     |\n",
            "|-----------------------------------------+----------------------+----------------------+\n",
            "| GPU  Name                 Persistence-M | Bus-Id        Disp.A | Volatile Uncorr. ECC |\n",
            "| Fan  Temp   Perf          Pwr:Usage/Cap |         Memory-Usage | GPU-Util  Compute M. |\n",
            "|                                         |                      |               MIG M. |\n",
            "|=========================================+======================+======================|\n",
            "|   0  Tesla T4                       Off | 00000000:00:04.0 Off |                    0 |\n",
            "| N/A   34C    P8               9W /  70W |      3MiB / 15360MiB |      0%      Default |\n",
            "|                                         |                      |                  N/A |\n",
            "+-----------------------------------------+----------------------+----------------------+\n",
            "                                                                                         \n",
            "+---------------------------------------------------------------------------------------+\n",
            "| Processes:                                                                            |\n",
            "|  GPU   GI   CI        PID   Type   Process name                            GPU Memory |\n",
            "|        ID   ID                                                             Usage      |\n",
            "|=======================================================================================|\n",
            "|  No running processes found                                                           |\n",
            "+---------------------------------------------------------------------------------------+\n"
          ]
        }
      ]
    },
    {
      "cell_type": "markdown",
      "metadata": {
        "id": "f38F8worYuNe"
      },
      "source": [
        "Training"
      ]
    },
    {
      "cell_type": "code",
      "source": [
        "# Import necessary libraries\n",
        "import pandas as pd  # For data manipulation\n",
        "from transformers import AutoModelForCausalLM, AutoTokenizer, TrainingArguments, Trainer  # For using the GPT-2 model and training\n",
        "import torch  # For deep learning operations\n",
        "from sklearn.model_selection import train_test_split  # For splitting data\n",
        "\n",
        "# Set the device (GPU if available, otherwise CPU)\n",
        "device = torch.device(\"cuda\" if torch.cuda.is_available() else \"cpu\")\n",
        "\n",
        "# Load the dataset from a CSV file\n",
        "df = pd.read_csv(\"youtube_data.csv\")\n",
        "\n",
        "# Convert non-string values in 'video_title' column to strings\n",
        "df['video_title'] = df['video_title'].fillna('').astype(str)\n",
        "\n",
        "# Split data into training and evaluation sets (80% train, 20% eval)\n",
        "train_df, eval_df = train_test_split(df, test_size=0.2) #random_state=42\n",
        "\n",
        "# Extract video titles for training and evaluation\n",
        "train_titles = train_df['video_title'].tolist()\n",
        "eval_titles = eval_df['video_title'].tolist()\n",
        "\n",
        "# Initialize tokenizer and model\n",
        "# model_name = \"gpt2\"  # Jika mau menggunakan gpt2 (model dasar)\n",
        "model_name = \"EdwardFang09/QuestionableYouTubeVideoTitleV1\"  # Path to your initial fine-tuned model\n",
        "tokenizer = AutoTokenizer.from_pretrained(model_name)  # Load the tokenizer\n",
        "\n",
        "# Add a padding token (often set to EOS token for language models)\n",
        "tokenizer.pad_token = tokenizer.eos_token\n",
        "\n",
        "# Load the pre-trained GPT-2 model\n",
        "model = AutoModelForCausalLM.from_pretrained(model_name)\n",
        "model.to(device)  # Move the model to the appropriate device\n",
        "\n",
        "# Prepare the dataset for training\n",
        "class TitlesDataset(torch.utils.data.Dataset):\n",
        "    def __init__(self, encodings):\n",
        "        self.encodings = encodings  # Store the tokenized encodings\n",
        "\n",
        "    def __getitem__(self, idx):\n",
        "        # Retrieve encoded data and create labels (targets)\n",
        "        item = {key: torch.tensor(val[idx]) for key, val in self.encodings.items()}\n",
        "        item[\"labels\"] = item[\"input_ids\"].clone()  # Labels are the same as input IDs for language modeling\n",
        "        return item\n",
        "\n",
        "    def __len__(self):\n",
        "        return len(self.encodings.input_ids)  # Return the length of the dataset\n",
        "\n",
        "# Tokenize the titles for training and evaluation\n",
        "train_encodings = tokenizer(train_titles, truncation=True, padding=True)  # Truncate long titles and pad shorter ones\n",
        "eval_encodings = tokenizer(eval_titles, truncation=True, padding=True)\n",
        "\n",
        "# Create dataset objects\n",
        "train_dataset = TitlesDataset(train_encodings)\n",
        "eval_dataset = TitlesDataset(eval_encodings)\n",
        "\n",
        "# Define training arguments\n",
        "training_args = TrainingArguments(\n",
        "    output_dir=\"./results\",  # Directory to save training outputs\n",
        "    num_train_epochs=2,  # Number of training epochs\n",
        "    per_device_train_batch_size=128,  # Batch size per device\n",
        "    save_steps=10,  # Save checkpoints every 1000 steps\n",
        "    logging_dir=\"./logs\",  # Directory for training logs\n",
        "    logging_steps=100,  # Log every 100 steps  # Added logging_steps\n",
        "    fp16=True,  # Enable mixed precision training (if supported)\n",
        "    evaluation_strategy=\"epoch\",  # Evaluate the model at the end of each epoch\n",
        "    save_strategy=\"epoch\",  # Save the model at the end of each epoch\n",
        "    load_best_model_at_end=True,  # Load the best performing model at the end of training\n",
        "    # Since we're removing BLEU, we'll use loss to determine the best model\n",
        "    metric_for_best_model=\"loss\",\n",
        ")\n",
        "\n",
        "# Define the Trainer\n",
        "trainer = Trainer(\n",
        "    model=model,  # The GPT-2 model to be fine-tuned\n",
        "    args=training_args,  # Training arguments\n",
        "    train_dataset=train_dataset,  # Training dataset\n",
        "    eval_dataset=eval_dataset,  # Evaluation dataset\n",
        ")\n",
        "\n",
        "# Fine-tune the model\n",
        "trainer.train()\n",
        "\n",
        "# Save the fine-tuned model and tokenizer\n",
        "trainer.save_model(\"./QuestionableYouTubeVideoTitleV1_finetuned\")  # Save the model\n",
        "tokenizer.save_pretrained(\"./QuestionableYouTubeVideoTitleV1_finetuned\")  # Save the tokenizer"
      ],
      "metadata": {
        "colab": {
          "base_uri": "https://localhost:8080/",
          "height": 294
        },
        "id": "7PUh3_v8b3FF",
        "outputId": "dcc8c445-db5d-43c7-8503-cddce164bb01"
      },
      "execution_count": 2,
      "outputs": [
        {
          "output_type": "stream",
          "name": "stderr",
          "text": [
            "/usr/local/lib/python3.10/dist-packages/transformers/training_args.py:1568: FutureWarning: `evaluation_strategy` is deprecated and will be removed in version 4.46 of 🤗 Transformers. Use `eval_strategy` instead\n",
            "  warnings.warn(\n"
          ]
        },
        {
          "output_type": "display_data",
          "data": {
            "text/plain": [
              "<IPython.core.display.HTML object>"
            ],
            "text/html": [
              "\n",
              "    <div>\n",
              "      \n",
              "      <progress value='2' max='2' style='width:300px; height:20px; vertical-align: middle;'></progress>\n",
              "      [2/2 00:39, Epoch 2/2]\n",
              "    </div>\n",
              "    <table border=\"1\" class=\"dataframe\">\n",
              "  <thead>\n",
              " <tr style=\"text-align: left;\">\n",
              "      <th>Epoch</th>\n",
              "      <th>Training Loss</th>\n",
              "      <th>Validation Loss</th>\n",
              "    </tr>\n",
              "  </thead>\n",
              "  <tbody>\n",
              "    <tr>\n",
              "      <td>1</td>\n",
              "      <td>No log</td>\n",
              "      <td>1.938237</td>\n",
              "    </tr>\n",
              "    <tr>\n",
              "      <td>2</td>\n",
              "      <td>No log</td>\n",
              "      <td>1.898736</td>\n",
              "    </tr>\n",
              "  </tbody>\n",
              "</table><p>"
            ]
          },
          "metadata": {}
        },
        {
          "output_type": "stream",
          "name": "stderr",
          "text": [
            "There were missing keys in the checkpoint model loaded: ['lm_head.weight'].\n"
          ]
        },
        {
          "output_type": "execute_result",
          "data": {
            "text/plain": [
              "('./QuestionableYouTubeVideoTitleV1_finetuned/tokenizer_config.json',\n",
              " './QuestionableYouTubeVideoTitleV1_finetuned/special_tokens_map.json',\n",
              " './QuestionableYouTubeVideoTitleV1_finetuned/vocab.json',\n",
              " './QuestionableYouTubeVideoTitleV1_finetuned/merges.txt',\n",
              " './QuestionableYouTubeVideoTitleV1_finetuned/added_tokens.json',\n",
              " './QuestionableYouTubeVideoTitleV1_finetuned/tokenizer.json')"
            ]
          },
          "metadata": {},
          "execution_count": 2
        }
      ]
    }
  ],
  "metadata": {
    "kernelspec": {
      "display_name": "Python 3",
      "name": "python3"
    },
    "language_info": {
      "codemirror_mode": {
        "name": "ipython",
        "version": 3
      },
      "file_extension": ".py",
      "mimetype": "text/x-python",
      "name": "python",
      "nbconvert_exporter": "python",
      "pygments_lexer": "ipython3",
      "version": "3.11.9"
    },
    "colab": {
      "provenance": [],
      "gpuType": "T4"
    },
    "accelerator": "GPU"
  },
  "nbformat": 4,
  "nbformat_minor": 0
}