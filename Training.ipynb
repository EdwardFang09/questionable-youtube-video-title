{
 "cells": [
  {
   "cell_type": "code",
   "execution_count": 12,
   "metadata": {},
   "outputs": [
    {
     "data": {
      "text/plain": [
       "device(type='cuda')"
      ]
     },
     "execution_count": 12,
     "metadata": {},
     "output_type": "execute_result"
    }
   ],
   "source": [
    "import torch  # Import torch\n",
    "device = torch.device(\"cuda\" if torch.cuda.is_available() else \"cpu\")\n",
    "device"
   ]
  },
  {
   "cell_type": "markdown",
   "metadata": {},
   "source": [
    "Training"
   ]
  },
  {
   "cell_type": "code",
   "execution_count": 15,
   "metadata": {},
   "outputs": [
    {
     "name": "stderr",
     "output_type": "stream",
     "text": [
      "c:\\Users\\Edwar\\OneDrive - Calvin Institute of Technology\\Documents\\CIT\\Semester 9\\IEE3022 Deep Learning-MSI\\UAS\\UAS debugging\\.venv\\Lib\\site-packages\\transformers\\training_args.py:1575: FutureWarning: `evaluation_strategy` is deprecated and will be removed in version 4.46 of 🤗 Transformers. Use `eval_strategy` instead\n",
      "  warnings.warn(\n",
      "c:\\Users\\Edwar\\OneDrive - Calvin Institute of Technology\\Documents\\CIT\\Semester 9\\IEE3022 Deep Learning-MSI\\UAS\\UAS debugging\\.venv\\Lib\\site-packages\\torch\\nn\\parallel\\data_parallel.py:37: UserWarning: \n",
      "    There is an imbalance between your GPUs. You may want to exclude GPU 1 which\n",
      "    has less than 75% of the memory or cores of GPU 0. You can do so by setting\n",
      "    the device_ids argument to DataParallel, or by setting the CUDA_VISIBLE_DEVICES\n",
      "    environment variable.\n",
      "  warnings.warn(\n"
     ]
    },
    {
     "data": {
      "application/vnd.jupyter.widget-view+json": {
       "model_id": "a1fd398a386b4d30a19ea2578389dfa8",
       "version_major": 2,
       "version_minor": 0
      },
      "text/plain": [
       "  0%|          | 0/840 [00:00<?, ?it/s]"
      ]
     },
     "metadata": {},
     "output_type": "display_data"
    },
    {
     "name": "stderr",
     "output_type": "stream",
     "text": [
      "c:\\Users\\Edwar\\OneDrive - Calvin Institute of Technology\\Documents\\CIT\\Semester 9\\IEE3022 Deep Learning-MSI\\UAS\\UAS debugging\\.venv\\Lib\\site-packages\\torch\\nn\\parallel\\_functions.py:71: UserWarning: Was asked to gather along dimension 0, but all input tensors were scalars; will instead unsqueeze and return a vector.\n",
      "  warnings.warn(\n",
      "c:\\Users\\Edwar\\OneDrive - Calvin Institute of Technology\\Documents\\CIT\\Semester 9\\IEE3022 Deep Learning-MSI\\UAS\\UAS debugging\\.venv\\Lib\\site-packages\\torch\\cuda\\nccl.py:16: UserWarning: PyTorch is not compiled with NCCL support\n",
      "  warnings.warn(\"PyTorch is not compiled with NCCL support\")\n"
     ]
    },
    {
     "data": {
      "application/vnd.jupyter.widget-view+json": {
       "model_id": "9f1fd34923524cf9a1b287b13f57aff2",
       "version_major": 2,
       "version_minor": 0
      },
      "text/plain": [
       "  0%|          | 0/4 [00:00<?, ?it/s]"
      ]
     },
     "metadata": {},
     "output_type": "display_data"
    },
    {
     "name": "stdout",
     "output_type": "stream",
     "text": [
      "Warning: Empty predictions or labels encountered, or mismatched lengths.\n",
      "{'eval_loss': 2.1021509170532227, 'eval_bleu': 0, 'eval_runtime': 0.9795, 'eval_samples_per_second': 56.152, 'eval_steps_per_second': 4.084, 'epoch': 1.0}\n"
     ]
    },
    {
     "name": "stderr",
     "output_type": "stream",
     "text": [
      "c:\\Users\\Edwar\\OneDrive - Calvin Institute of Technology\\Documents\\CIT\\Semester 9\\IEE3022 Deep Learning-MSI\\UAS\\UAS debugging\\.venv\\Lib\\site-packages\\torch\\nn\\parallel\\_functions.py:71: UserWarning: Was asked to gather along dimension 0, but all input tensors were scalars; will instead unsqueeze and return a vector.\n",
      "  warnings.warn(\n",
      "c:\\Users\\Edwar\\OneDrive - Calvin Institute of Technology\\Documents\\CIT\\Semester 9\\IEE3022 Deep Learning-MSI\\UAS\\UAS debugging\\.venv\\Lib\\site-packages\\torch\\cuda\\nccl.py:16: UserWarning: PyTorch is not compiled with NCCL support\n",
      "  warnings.warn(\"PyTorch is not compiled with NCCL support\")\n",
      "c:\\Users\\Edwar\\OneDrive - Calvin Institute of Technology\\Documents\\CIT\\Semester 9\\IEE3022 Deep Learning-MSI\\UAS\\UAS debugging\\.venv\\Lib\\site-packages\\torch\\nn\\parallel\\data_parallel.py:37: UserWarning: \n",
      "    There is an imbalance between your GPUs. You may want to exclude GPU 1 which\n",
      "    has less than 75% of the memory or cores of GPU 0. You can do so by setting\n",
      "    the device_ids argument to DataParallel, or by setting the CUDA_VISIBLE_DEVICES\n",
      "    environment variable.\n",
      "  warnings.warn(\n"
     ]
    },
    {
     "data": {
      "application/vnd.jupyter.widget-view+json": {
       "model_id": "9e2b9f71d9e749d5bcafc13328f138e6",
       "version_major": 2,
       "version_minor": 0
      },
      "text/plain": [
       "  0%|          | 0/4 [00:00<?, ?it/s]"
      ]
     },
     "metadata": {},
     "output_type": "display_data"
    },
    {
     "name": "stdout",
     "output_type": "stream",
     "text": [
      "Warning: Empty predictions or labels encountered, or mismatched lengths.\n",
      "{'eval_loss': 1.7044501304626465, 'eval_bleu': 0, 'eval_runtime': 0.9954, 'eval_samples_per_second': 55.257, 'eval_steps_per_second': 4.019, 'epoch': 2.0}\n"
     ]
    },
    {
     "name": "stderr",
     "output_type": "stream",
     "text": [
      "c:\\Users\\Edwar\\OneDrive - Calvin Institute of Technology\\Documents\\CIT\\Semester 9\\IEE3022 Deep Learning-MSI\\UAS\\UAS debugging\\.venv\\Lib\\site-packages\\torch\\nn\\parallel\\_functions.py:71: UserWarning: Was asked to gather along dimension 0, but all input tensors were scalars; will instead unsqueeze and return a vector.\n",
      "  warnings.warn(\n",
      "c:\\Users\\Edwar\\OneDrive - Calvin Institute of Technology\\Documents\\CIT\\Semester 9\\IEE3022 Deep Learning-MSI\\UAS\\UAS debugging\\.venv\\Lib\\site-packages\\torch\\cuda\\nccl.py:16: UserWarning: PyTorch is not compiled with NCCL support\n",
      "  warnings.warn(\"PyTorch is not compiled with NCCL support\")\n",
      "c:\\Users\\Edwar\\OneDrive - Calvin Institute of Technology\\Documents\\CIT\\Semester 9\\IEE3022 Deep Learning-MSI\\UAS\\UAS debugging\\.venv\\Lib\\site-packages\\torch\\nn\\parallel\\data_parallel.py:37: UserWarning: \n",
      "    There is an imbalance between your GPUs. You may want to exclude GPU 1 which\n",
      "    has less than 75% of the memory or cores of GPU 0. You can do so by setting\n",
      "    the device_ids argument to DataParallel, or by setting the CUDA_VISIBLE_DEVICES\n",
      "    environment variable.\n",
      "  warnings.warn(\n"
     ]
    },
    {
     "data": {
      "application/vnd.jupyter.widget-view+json": {
       "model_id": "49226accc4b24668b93cdb75a815cffa",
       "version_major": 2,
       "version_minor": 0
      },
      "text/plain": [
       "  0%|          | 0/4 [00:00<?, ?it/s]"
      ]
     },
     "metadata": {},
     "output_type": "display_data"
    },
    {
     "name": "stdout",
     "output_type": "stream",
     "text": [
      "Warning: Empty predictions or labels encountered, or mismatched lengths.\n",
      "{'eval_loss': 1.5867444276809692, 'eval_bleu': 0, 'eval_runtime': 1.0106, 'eval_samples_per_second': 54.421, 'eval_steps_per_second': 3.958, 'epoch': 3.0}\n"
     ]
    },
    {
     "name": "stderr",
     "output_type": "stream",
     "text": [
      "c:\\Users\\Edwar\\OneDrive - Calvin Institute of Technology\\Documents\\CIT\\Semester 9\\IEE3022 Deep Learning-MSI\\UAS\\UAS debugging\\.venv\\Lib\\site-packages\\torch\\nn\\parallel\\_functions.py:71: UserWarning: Was asked to gather along dimension 0, but all input tensors were scalars; will instead unsqueeze and return a vector.\n",
      "  warnings.warn(\n",
      "c:\\Users\\Edwar\\OneDrive - Calvin Institute of Technology\\Documents\\CIT\\Semester 9\\IEE3022 Deep Learning-MSI\\UAS\\UAS debugging\\.venv\\Lib\\site-packages\\torch\\cuda\\nccl.py:16: UserWarning: PyTorch is not compiled with NCCL support\n",
      "  warnings.warn(\"PyTorch is not compiled with NCCL support\")\n",
      "c:\\Users\\Edwar\\OneDrive - Calvin Institute of Technology\\Documents\\CIT\\Semester 9\\IEE3022 Deep Learning-MSI\\UAS\\UAS debugging\\.venv\\Lib\\site-packages\\torch\\nn\\parallel\\data_parallel.py:37: UserWarning: \n",
      "    There is an imbalance between your GPUs. You may want to exclude GPU 1 which\n",
      "    has less than 75% of the memory or cores of GPU 0. You can do so by setting\n",
      "    the device_ids argument to DataParallel, or by setting the CUDA_VISIBLE_DEVICES\n",
      "    environment variable.\n",
      "  warnings.warn(\n"
     ]
    },
    {
     "data": {
      "application/vnd.jupyter.widget-view+json": {
       "model_id": "1e90202167534119b4beb2d478e6da40",
       "version_major": 2,
       "version_minor": 0
      },
      "text/plain": [
       "  0%|          | 0/4 [00:00<?, ?it/s]"
      ]
     },
     "metadata": {},
     "output_type": "display_data"
    },
    {
     "name": "stdout",
     "output_type": "stream",
     "text": [
      "Warning: Empty predictions or labels encountered, or mismatched lengths.\n",
      "{'eval_loss': 1.6240445375442505, 'eval_bleu': 0, 'eval_runtime': 1.0231, 'eval_samples_per_second': 53.757, 'eval_steps_per_second': 3.91, 'epoch': 4.0}\n"
     ]
    },
    {
     "name": "stderr",
     "output_type": "stream",
     "text": [
      "c:\\Users\\Edwar\\OneDrive - Calvin Institute of Technology\\Documents\\CIT\\Semester 9\\IEE3022 Deep Learning-MSI\\UAS\\UAS debugging\\.venv\\Lib\\site-packages\\torch\\nn\\parallel\\_functions.py:71: UserWarning: Was asked to gather along dimension 0, but all input tensors were scalars; will instead unsqueeze and return a vector.\n",
      "  warnings.warn(\n",
      "c:\\Users\\Edwar\\OneDrive - Calvin Institute of Technology\\Documents\\CIT\\Semester 9\\IEE3022 Deep Learning-MSI\\UAS\\UAS debugging\\.venv\\Lib\\site-packages\\torch\\cuda\\nccl.py:16: UserWarning: PyTorch is not compiled with NCCL support\n",
      "  warnings.warn(\"PyTorch is not compiled with NCCL support\")\n",
      "c:\\Users\\Edwar\\OneDrive - Calvin Institute of Technology\\Documents\\CIT\\Semester 9\\IEE3022 Deep Learning-MSI\\UAS\\UAS debugging\\.venv\\Lib\\site-packages\\torch\\nn\\parallel\\data_parallel.py:37: UserWarning: \n",
      "    There is an imbalance between your GPUs. You may want to exclude GPU 1 which\n",
      "    has less than 75% of the memory or cores of GPU 0. You can do so by setting\n",
      "    the device_ids argument to DataParallel, or by setting the CUDA_VISIBLE_DEVICES\n",
      "    environment variable.\n",
      "  warnings.warn(\n"
     ]
    },
    {
     "data": {
      "application/vnd.jupyter.widget-view+json": {
       "model_id": "6a896b0251ca4a30a3e6502aedda6384",
       "version_major": 2,
       "version_minor": 0
      },
      "text/plain": [
       "  0%|          | 0/4 [00:00<?, ?it/s]"
      ]
     },
     "metadata": {},
     "output_type": "display_data"
    },
    {
     "name": "stdout",
     "output_type": "stream",
     "text": [
      "Warning: Empty predictions or labels encountered, or mismatched lengths.\n",
      "{'eval_loss': 1.6623347997665405, 'eval_bleu': 0, 'eval_runtime': 0.999, 'eval_samples_per_second': 55.055, 'eval_steps_per_second': 4.004, 'epoch': 5.0}\n"
     ]
    },
    {
     "name": "stderr",
     "output_type": "stream",
     "text": [
      "c:\\Users\\Edwar\\OneDrive - Calvin Institute of Technology\\Documents\\CIT\\Semester 9\\IEE3022 Deep Learning-MSI\\UAS\\UAS debugging\\.venv\\Lib\\site-packages\\torch\\nn\\parallel\\_functions.py:71: UserWarning: Was asked to gather along dimension 0, but all input tensors were scalars; will instead unsqueeze and return a vector.\n",
      "  warnings.warn(\n",
      "c:\\Users\\Edwar\\OneDrive - Calvin Institute of Technology\\Documents\\CIT\\Semester 9\\IEE3022 Deep Learning-MSI\\UAS\\UAS debugging\\.venv\\Lib\\site-packages\\torch\\cuda\\nccl.py:16: UserWarning: PyTorch is not compiled with NCCL support\n",
      "  warnings.warn(\"PyTorch is not compiled with NCCL support\")\n",
      "c:\\Users\\Edwar\\OneDrive - Calvin Institute of Technology\\Documents\\CIT\\Semester 9\\IEE3022 Deep Learning-MSI\\UAS\\UAS debugging\\.venv\\Lib\\site-packages\\torch\\nn\\parallel\\data_parallel.py:37: UserWarning: \n",
      "    There is an imbalance between your GPUs. You may want to exclude GPU 1 which\n",
      "    has less than 75% of the memory or cores of GPU 0. You can do so by setting\n",
      "    the device_ids argument to DataParallel, or by setting the CUDA_VISIBLE_DEVICES\n",
      "    environment variable.\n",
      "  warnings.warn(\n"
     ]
    },
    {
     "data": {
      "application/vnd.jupyter.widget-view+json": {
       "model_id": "4ae7a0f8a3cb42e1b5997bd04ea54d4a",
       "version_major": 2,
       "version_minor": 0
      },
      "text/plain": [
       "  0%|          | 0/4 [00:00<?, ?it/s]"
      ]
     },
     "metadata": {},
     "output_type": "display_data"
    },
    {
     "name": "stdout",
     "output_type": "stream",
     "text": [
      "Warning: Empty predictions or labels encountered, or mismatched lengths.\n",
      "{'eval_loss': 1.7036473751068115, 'eval_bleu': 0, 'eval_runtime': 1.0151, 'eval_samples_per_second': 54.182, 'eval_steps_per_second': 3.94, 'epoch': 6.0}\n"
     ]
    },
    {
     "name": "stderr",
     "output_type": "stream",
     "text": [
      "c:\\Users\\Edwar\\OneDrive - Calvin Institute of Technology\\Documents\\CIT\\Semester 9\\IEE3022 Deep Learning-MSI\\UAS\\UAS debugging\\.venv\\Lib\\site-packages\\torch\\nn\\parallel\\_functions.py:71: UserWarning: Was asked to gather along dimension 0, but all input tensors were scalars; will instead unsqueeze and return a vector.\n",
      "  warnings.warn(\n",
      "c:\\Users\\Edwar\\OneDrive - Calvin Institute of Technology\\Documents\\CIT\\Semester 9\\IEE3022 Deep Learning-MSI\\UAS\\UAS debugging\\.venv\\Lib\\site-packages\\torch\\cuda\\nccl.py:16: UserWarning: PyTorch is not compiled with NCCL support\n",
      "  warnings.warn(\"PyTorch is not compiled with NCCL support\")\n",
      "c:\\Users\\Edwar\\OneDrive - Calvin Institute of Technology\\Documents\\CIT\\Semester 9\\IEE3022 Deep Learning-MSI\\UAS\\UAS debugging\\.venv\\Lib\\site-packages\\torch\\nn\\parallel\\data_parallel.py:37: UserWarning: \n",
      "    There is an imbalance between your GPUs. You may want to exclude GPU 1 which\n",
      "    has less than 75% of the memory or cores of GPU 0. You can do so by setting\n",
      "    the device_ids argument to DataParallel, or by setting the CUDA_VISIBLE_DEVICES\n",
      "    environment variable.\n",
      "  warnings.warn(\n"
     ]
    },
    {
     "data": {
      "application/vnd.jupyter.widget-view+json": {
       "model_id": "51fb113111c848b49f7cdc6aecd19e28",
       "version_major": 2,
       "version_minor": 0
      },
      "text/plain": [
       "  0%|          | 0/4 [00:00<?, ?it/s]"
      ]
     },
     "metadata": {},
     "output_type": "display_data"
    },
    {
     "name": "stdout",
     "output_type": "stream",
     "text": [
      "Warning: Empty predictions or labels encountered, or mismatched lengths.\n",
      "{'eval_loss': 1.7288987636566162, 'eval_bleu': 0, 'eval_runtime': 1.0121, 'eval_samples_per_second': 54.345, 'eval_steps_per_second': 3.952, 'epoch': 7.0}\n"
     ]
    },
    {
     "name": "stderr",
     "output_type": "stream",
     "text": [
      "c:\\Users\\Edwar\\OneDrive - Calvin Institute of Technology\\Documents\\CIT\\Semester 9\\IEE3022 Deep Learning-MSI\\UAS\\UAS debugging\\.venv\\Lib\\site-packages\\torch\\nn\\parallel\\_functions.py:71: UserWarning: Was asked to gather along dimension 0, but all input tensors were scalars; will instead unsqueeze and return a vector.\n",
      "  warnings.warn(\n",
      "c:\\Users\\Edwar\\OneDrive - Calvin Institute of Technology\\Documents\\CIT\\Semester 9\\IEE3022 Deep Learning-MSI\\UAS\\UAS debugging\\.venv\\Lib\\site-packages\\torch\\cuda\\nccl.py:16: UserWarning: PyTorch is not compiled with NCCL support\n",
      "  warnings.warn(\"PyTorch is not compiled with NCCL support\")\n",
      "c:\\Users\\Edwar\\OneDrive - Calvin Institute of Technology\\Documents\\CIT\\Semester 9\\IEE3022 Deep Learning-MSI\\UAS\\UAS debugging\\.venv\\Lib\\site-packages\\torch\\nn\\parallel\\data_parallel.py:37: UserWarning: \n",
      "    There is an imbalance between your GPUs. You may want to exclude GPU 1 which\n",
      "    has less than 75% of the memory or cores of GPU 0. You can do so by setting\n",
      "    the device_ids argument to DataParallel, or by setting the CUDA_VISIBLE_DEVICES\n",
      "    environment variable.\n",
      "  warnings.warn(\n"
     ]
    },
    {
     "data": {
      "application/vnd.jupyter.widget-view+json": {
       "model_id": "da354eb390bc4b49b31d354377d793f8",
       "version_major": 2,
       "version_minor": 0
      },
      "text/plain": [
       "  0%|          | 0/4 [00:00<?, ?it/s]"
      ]
     },
     "metadata": {},
     "output_type": "display_data"
    },
    {
     "name": "stdout",
     "output_type": "stream",
     "text": [
      "Warning: Empty predictions or labels encountered, or mismatched lengths.\n",
      "{'eval_loss': 1.7540889978408813, 'eval_bleu': 0, 'eval_runtime': 1.0433, 'eval_samples_per_second': 52.717, 'eval_steps_per_second': 3.834, 'epoch': 8.0}\n"
     ]
    },
    {
     "name": "stderr",
     "output_type": "stream",
     "text": [
      "c:\\Users\\Edwar\\OneDrive - Calvin Institute of Technology\\Documents\\CIT\\Semester 9\\IEE3022 Deep Learning-MSI\\UAS\\UAS debugging\\.venv\\Lib\\site-packages\\torch\\nn\\parallel\\_functions.py:71: UserWarning: Was asked to gather along dimension 0, but all input tensors were scalars; will instead unsqueeze and return a vector.\n",
      "  warnings.warn(\n",
      "c:\\Users\\Edwar\\OneDrive - Calvin Institute of Technology\\Documents\\CIT\\Semester 9\\IEE3022 Deep Learning-MSI\\UAS\\UAS debugging\\.venv\\Lib\\site-packages\\torch\\cuda\\nccl.py:16: UserWarning: PyTorch is not compiled with NCCL support\n",
      "  warnings.warn(\"PyTorch is not compiled with NCCL support\")\n",
      "c:\\Users\\Edwar\\OneDrive - Calvin Institute of Technology\\Documents\\CIT\\Semester 9\\IEE3022 Deep Learning-MSI\\UAS\\UAS debugging\\.venv\\Lib\\site-packages\\torch\\nn\\parallel\\data_parallel.py:37: UserWarning: \n",
      "    There is an imbalance between your GPUs. You may want to exclude GPU 1 which\n",
      "    has less than 75% of the memory or cores of GPU 0. You can do so by setting\n",
      "    the device_ids argument to DataParallel, or by setting the CUDA_VISIBLE_DEVICES\n",
      "    environment variable.\n",
      "  warnings.warn(\n"
     ]
    },
    {
     "data": {
      "application/vnd.jupyter.widget-view+json": {
       "model_id": "5d79d382b67b4ecfb945375931e23cbc",
       "version_major": 2,
       "version_minor": 0
      },
      "text/plain": [
       "  0%|          | 0/4 [00:00<?, ?it/s]"
      ]
     },
     "metadata": {},
     "output_type": "display_data"
    },
    {
     "name": "stdout",
     "output_type": "stream",
     "text": [
      "Warning: Empty predictions or labels encountered, or mismatched lengths.\n",
      "{'eval_loss': 1.763527750968933, 'eval_bleu': 0, 'eval_runtime': 0.9985, 'eval_samples_per_second': 55.082, 'eval_steps_per_second': 4.006, 'epoch': 9.0}\n"
     ]
    },
    {
     "name": "stderr",
     "output_type": "stream",
     "text": [
      "c:\\Users\\Edwar\\OneDrive - Calvin Institute of Technology\\Documents\\CIT\\Semester 9\\IEE3022 Deep Learning-MSI\\UAS\\UAS debugging\\.venv\\Lib\\site-packages\\torch\\nn\\parallel\\_functions.py:71: UserWarning: Was asked to gather along dimension 0, but all input tensors were scalars; will instead unsqueeze and return a vector.\n",
      "  warnings.warn(\n",
      "c:\\Users\\Edwar\\OneDrive - Calvin Institute of Technology\\Documents\\CIT\\Semester 9\\IEE3022 Deep Learning-MSI\\UAS\\UAS debugging\\.venv\\Lib\\site-packages\\torch\\cuda\\nccl.py:16: UserWarning: PyTorch is not compiled with NCCL support\n",
      "  warnings.warn(\"PyTorch is not compiled with NCCL support\")\n",
      "c:\\Users\\Edwar\\OneDrive - Calvin Institute of Technology\\Documents\\CIT\\Semester 9\\IEE3022 Deep Learning-MSI\\UAS\\UAS debugging\\.venv\\Lib\\site-packages\\torch\\nn\\parallel\\data_parallel.py:37: UserWarning: \n",
      "    There is an imbalance between your GPUs. You may want to exclude GPU 1 which\n",
      "    has less than 75% of the memory or cores of GPU 0. You can do so by setting\n",
      "    the device_ids argument to DataParallel, or by setting the CUDA_VISIBLE_DEVICES\n",
      "    environment variable.\n",
      "  warnings.warn(\n"
     ]
    },
    {
     "data": {
      "application/vnd.jupyter.widget-view+json": {
       "model_id": "af283ba9f773471c9c28f422d4976acc",
       "version_major": 2,
       "version_minor": 0
      },
      "text/plain": [
       "  0%|          | 0/4 [00:00<?, ?it/s]"
      ]
     },
     "metadata": {},
     "output_type": "display_data"
    },
    {
     "name": "stdout",
     "output_type": "stream",
     "text": [
      "Warning: Empty predictions or labels encountered, or mismatched lengths.\n",
      "{'eval_loss': 1.7874102592468262, 'eval_bleu': 0, 'eval_runtime': 1.0243, 'eval_samples_per_second': 53.695, 'eval_steps_per_second': 3.905, 'epoch': 10.0}\n"
     ]
    },
    {
     "name": "stderr",
     "output_type": "stream",
     "text": [
      "c:\\Users\\Edwar\\OneDrive - Calvin Institute of Technology\\Documents\\CIT\\Semester 9\\IEE3022 Deep Learning-MSI\\UAS\\UAS debugging\\.venv\\Lib\\site-packages\\torch\\nn\\parallel\\_functions.py:71: UserWarning: Was asked to gather along dimension 0, but all input tensors were scalars; will instead unsqueeze and return a vector.\n",
      "  warnings.warn(\n",
      "c:\\Users\\Edwar\\OneDrive - Calvin Institute of Technology\\Documents\\CIT\\Semester 9\\IEE3022 Deep Learning-MSI\\UAS\\UAS debugging\\.venv\\Lib\\site-packages\\torch\\cuda\\nccl.py:16: UserWarning: PyTorch is not compiled with NCCL support\n",
      "  warnings.warn(\"PyTorch is not compiled with NCCL support\")\n",
      "c:\\Users\\Edwar\\OneDrive - Calvin Institute of Technology\\Documents\\CIT\\Semester 9\\IEE3022 Deep Learning-MSI\\UAS\\UAS debugging\\.venv\\Lib\\site-packages\\torch\\nn\\parallel\\data_parallel.py:37: UserWarning: \n",
      "    There is an imbalance between your GPUs. You may want to exclude GPU 1 which\n",
      "    has less than 75% of the memory or cores of GPU 0. You can do so by setting\n",
      "    the device_ids argument to DataParallel, or by setting the CUDA_VISIBLE_DEVICES\n",
      "    environment variable.\n",
      "  warnings.warn(\n"
     ]
    },
    {
     "data": {
      "application/vnd.jupyter.widget-view+json": {
       "model_id": "90302f5241c64d8fbab7de0626579732",
       "version_major": 2,
       "version_minor": 0
      },
      "text/plain": [
       "  0%|          | 0/4 [00:00<?, ?it/s]"
      ]
     },
     "metadata": {},
     "output_type": "display_data"
    },
    {
     "name": "stdout",
     "output_type": "stream",
     "text": [
      "Warning: Empty predictions or labels encountered, or mismatched lengths.\n",
      "{'eval_loss': 1.7930964231491089, 'eval_bleu': 0, 'eval_runtime': 1.0411, 'eval_samples_per_second': 52.83, 'eval_steps_per_second': 3.842, 'epoch': 11.0}\n"
     ]
    },
    {
     "name": "stderr",
     "output_type": "stream",
     "text": [
      "c:\\Users\\Edwar\\OneDrive - Calvin Institute of Technology\\Documents\\CIT\\Semester 9\\IEE3022 Deep Learning-MSI\\UAS\\UAS debugging\\.venv\\Lib\\site-packages\\torch\\nn\\parallel\\_functions.py:71: UserWarning: Was asked to gather along dimension 0, but all input tensors were scalars; will instead unsqueeze and return a vector.\n",
      "  warnings.warn(\n",
      "c:\\Users\\Edwar\\OneDrive - Calvin Institute of Technology\\Documents\\CIT\\Semester 9\\IEE3022 Deep Learning-MSI\\UAS\\UAS debugging\\.venv\\Lib\\site-packages\\torch\\cuda\\nccl.py:16: UserWarning: PyTorch is not compiled with NCCL support\n",
      "  warnings.warn(\"PyTorch is not compiled with NCCL support\")\n",
      "c:\\Users\\Edwar\\OneDrive - Calvin Institute of Technology\\Documents\\CIT\\Semester 9\\IEE3022 Deep Learning-MSI\\UAS\\UAS debugging\\.venv\\Lib\\site-packages\\torch\\nn\\parallel\\data_parallel.py:37: UserWarning: \n",
      "    There is an imbalance between your GPUs. You may want to exclude GPU 1 which\n",
      "    has less than 75% of the memory or cores of GPU 0. You can do so by setting\n",
      "    the device_ids argument to DataParallel, or by setting the CUDA_VISIBLE_DEVICES\n",
      "    environment variable.\n",
      "  warnings.warn(\n"
     ]
    },
    {
     "data": {
      "application/vnd.jupyter.widget-view+json": {
       "model_id": "ce21ffabb379435caca5f5bcec30fe2b",
       "version_major": 2,
       "version_minor": 0
      },
      "text/plain": [
       "  0%|          | 0/4 [00:00<?, ?it/s]"
      ]
     },
     "metadata": {},
     "output_type": "display_data"
    },
    {
     "name": "stdout",
     "output_type": "stream",
     "text": [
      "Warning: Empty predictions or labels encountered, or mismatched lengths.\n",
      "{'eval_loss': 1.787025809288025, 'eval_bleu': 0, 'eval_runtime': 1.0376, 'eval_samples_per_second': 53.009, 'eval_steps_per_second': 3.855, 'epoch': 12.0}\n"
     ]
    },
    {
     "name": "stderr",
     "output_type": "stream",
     "text": [
      "c:\\Users\\Edwar\\OneDrive - Calvin Institute of Technology\\Documents\\CIT\\Semester 9\\IEE3022 Deep Learning-MSI\\UAS\\UAS debugging\\.venv\\Lib\\site-packages\\torch\\nn\\parallel\\_functions.py:71: UserWarning: Was asked to gather along dimension 0, but all input tensors were scalars; will instead unsqueeze and return a vector.\n",
      "  warnings.warn(\n",
      "c:\\Users\\Edwar\\OneDrive - Calvin Institute of Technology\\Documents\\CIT\\Semester 9\\IEE3022 Deep Learning-MSI\\UAS\\UAS debugging\\.venv\\Lib\\site-packages\\torch\\cuda\\nccl.py:16: UserWarning: PyTorch is not compiled with NCCL support\n",
      "  warnings.warn(\"PyTorch is not compiled with NCCL support\")\n",
      "c:\\Users\\Edwar\\OneDrive - Calvin Institute of Technology\\Documents\\CIT\\Semester 9\\IEE3022 Deep Learning-MSI\\UAS\\UAS debugging\\.venv\\Lib\\site-packages\\torch\\nn\\parallel\\data_parallel.py:37: UserWarning: \n",
      "    There is an imbalance between your GPUs. You may want to exclude GPU 1 which\n",
      "    has less than 75% of the memory or cores of GPU 0. You can do so by setting\n",
      "    the device_ids argument to DataParallel, or by setting the CUDA_VISIBLE_DEVICES\n",
      "    environment variable.\n",
      "  warnings.warn(\n"
     ]
    },
    {
     "data": {
      "application/vnd.jupyter.widget-view+json": {
       "model_id": "e9ff0ad16fab4b898b8a85924b4a8a0f",
       "version_major": 2,
       "version_minor": 0
      },
      "text/plain": [
       "  0%|          | 0/4 [00:00<?, ?it/s]"
      ]
     },
     "metadata": {},
     "output_type": "display_data"
    },
    {
     "name": "stdout",
     "output_type": "stream",
     "text": [
      "Warning: Empty predictions or labels encountered, or mismatched lengths.\n",
      "{'eval_loss': 1.7926087379455566, 'eval_bleu': 0, 'eval_runtime': 1.0093, 'eval_samples_per_second': 54.495, 'eval_steps_per_second': 3.963, 'epoch': 13.0}\n"
     ]
    },
    {
     "name": "stderr",
     "output_type": "stream",
     "text": [
      "c:\\Users\\Edwar\\OneDrive - Calvin Institute of Technology\\Documents\\CIT\\Semester 9\\IEE3022 Deep Learning-MSI\\UAS\\UAS debugging\\.venv\\Lib\\site-packages\\torch\\nn\\parallel\\_functions.py:71: UserWarning: Was asked to gather along dimension 0, but all input tensors were scalars; will instead unsqueeze and return a vector.\n",
      "  warnings.warn(\n",
      "c:\\Users\\Edwar\\OneDrive - Calvin Institute of Technology\\Documents\\CIT\\Semester 9\\IEE3022 Deep Learning-MSI\\UAS\\UAS debugging\\.venv\\Lib\\site-packages\\torch\\cuda\\nccl.py:16: UserWarning: PyTorch is not compiled with NCCL support\n",
      "  warnings.warn(\"PyTorch is not compiled with NCCL support\")\n",
      "c:\\Users\\Edwar\\OneDrive - Calvin Institute of Technology\\Documents\\CIT\\Semester 9\\IEE3022 Deep Learning-MSI\\UAS\\UAS debugging\\.venv\\Lib\\site-packages\\torch\\nn\\parallel\\data_parallel.py:37: UserWarning: \n",
      "    There is an imbalance between your GPUs. You may want to exclude GPU 1 which\n",
      "    has less than 75% of the memory or cores of GPU 0. You can do so by setting\n",
      "    the device_ids argument to DataParallel, or by setting the CUDA_VISIBLE_DEVICES\n",
      "    environment variable.\n",
      "  warnings.warn(\n"
     ]
    },
    {
     "data": {
      "application/vnd.jupyter.widget-view+json": {
       "model_id": "43c2a0382718486ca8e37e1534054168",
       "version_major": 2,
       "version_minor": 0
      },
      "text/plain": [
       "  0%|          | 0/4 [00:00<?, ?it/s]"
      ]
     },
     "metadata": {},
     "output_type": "display_data"
    },
    {
     "name": "stdout",
     "output_type": "stream",
     "text": [
      "Warning: Empty predictions or labels encountered, or mismatched lengths.\n",
      "{'eval_loss': 1.818159580230713, 'eval_bleu': 0, 'eval_runtime': 1.019, 'eval_samples_per_second': 53.974, 'eval_steps_per_second': 3.925, 'epoch': 14.0}\n"
     ]
    },
    {
     "name": "stderr",
     "output_type": "stream",
     "text": [
      "c:\\Users\\Edwar\\OneDrive - Calvin Institute of Technology\\Documents\\CIT\\Semester 9\\IEE3022 Deep Learning-MSI\\UAS\\UAS debugging\\.venv\\Lib\\site-packages\\torch\\nn\\parallel\\_functions.py:71: UserWarning: Was asked to gather along dimension 0, but all input tensors were scalars; will instead unsqueeze and return a vector.\n",
      "  warnings.warn(\n",
      "c:\\Users\\Edwar\\OneDrive - Calvin Institute of Technology\\Documents\\CIT\\Semester 9\\IEE3022 Deep Learning-MSI\\UAS\\UAS debugging\\.venv\\Lib\\site-packages\\torch\\cuda\\nccl.py:16: UserWarning: PyTorch is not compiled with NCCL support\n",
      "  warnings.warn(\"PyTorch is not compiled with NCCL support\")\n",
      "c:\\Users\\Edwar\\OneDrive - Calvin Institute of Technology\\Documents\\CIT\\Semester 9\\IEE3022 Deep Learning-MSI\\UAS\\UAS debugging\\.venv\\Lib\\site-packages\\torch\\nn\\parallel\\data_parallel.py:37: UserWarning: \n",
      "    There is an imbalance between your GPUs. You may want to exclude GPU 1 which\n",
      "    has less than 75% of the memory or cores of GPU 0. You can do so by setting\n",
      "    the device_ids argument to DataParallel, or by setting the CUDA_VISIBLE_DEVICES\n",
      "    environment variable.\n",
      "  warnings.warn(\n"
     ]
    },
    {
     "data": {
      "application/vnd.jupyter.widget-view+json": {
       "model_id": "1377f6d8c298408fa74d526f5bfe5f2c",
       "version_major": 2,
       "version_minor": 0
      },
      "text/plain": [
       "  0%|          | 0/4 [00:00<?, ?it/s]"
      ]
     },
     "metadata": {},
     "output_type": "display_data"
    },
    {
     "name": "stdout",
     "output_type": "stream",
     "text": [
      "Warning: Empty predictions or labels encountered, or mismatched lengths.\n",
      "{'eval_loss': 1.8094326257705688, 'eval_bleu': 0, 'eval_runtime': 1.0238, 'eval_samples_per_second': 53.721, 'eval_steps_per_second': 3.907, 'epoch': 15.0}\n"
     ]
    },
    {
     "name": "stderr",
     "output_type": "stream",
     "text": [
      "c:\\Users\\Edwar\\OneDrive - Calvin Institute of Technology\\Documents\\CIT\\Semester 9\\IEE3022 Deep Learning-MSI\\UAS\\UAS debugging\\.venv\\Lib\\site-packages\\torch\\nn\\parallel\\_functions.py:71: UserWarning: Was asked to gather along dimension 0, but all input tensors were scalars; will instead unsqueeze and return a vector.\n",
      "  warnings.warn(\n",
      "c:\\Users\\Edwar\\OneDrive - Calvin Institute of Technology\\Documents\\CIT\\Semester 9\\IEE3022 Deep Learning-MSI\\UAS\\UAS debugging\\.venv\\Lib\\site-packages\\torch\\cuda\\nccl.py:16: UserWarning: PyTorch is not compiled with NCCL support\n",
      "  warnings.warn(\"PyTorch is not compiled with NCCL support\")\n",
      "c:\\Users\\Edwar\\OneDrive - Calvin Institute of Technology\\Documents\\CIT\\Semester 9\\IEE3022 Deep Learning-MSI\\UAS\\UAS debugging\\.venv\\Lib\\site-packages\\torch\\nn\\parallel\\data_parallel.py:37: UserWarning: \n",
      "    There is an imbalance between your GPUs. You may want to exclude GPU 1 which\n",
      "    has less than 75% of the memory or cores of GPU 0. You can do so by setting\n",
      "    the device_ids argument to DataParallel, or by setting the CUDA_VISIBLE_DEVICES\n",
      "    environment variable.\n",
      "  warnings.warn(\n"
     ]
    },
    {
     "data": {
      "application/vnd.jupyter.widget-view+json": {
       "model_id": "3c7ac44b204c43d2b24449cda434a0ff",
       "version_major": 2,
       "version_minor": 0
      },
      "text/plain": [
       "  0%|          | 0/4 [00:00<?, ?it/s]"
      ]
     },
     "metadata": {},
     "output_type": "display_data"
    },
    {
     "name": "stdout",
     "output_type": "stream",
     "text": [
      "Warning: Empty predictions or labels encountered, or mismatched lengths.\n",
      "{'eval_loss': 1.8457216024398804, 'eval_bleu': 0, 'eval_runtime': 0.971, 'eval_samples_per_second': 56.64, 'eval_steps_per_second': 4.119, 'epoch': 16.0}\n"
     ]
    },
    {
     "name": "stderr",
     "output_type": "stream",
     "text": [
      "c:\\Users\\Edwar\\OneDrive - Calvin Institute of Technology\\Documents\\CIT\\Semester 9\\IEE3022 Deep Learning-MSI\\UAS\\UAS debugging\\.venv\\Lib\\site-packages\\torch\\nn\\parallel\\_functions.py:71: UserWarning: Was asked to gather along dimension 0, but all input tensors were scalars; will instead unsqueeze and return a vector.\n",
      "  warnings.warn(\n",
      "c:\\Users\\Edwar\\OneDrive - Calvin Institute of Technology\\Documents\\CIT\\Semester 9\\IEE3022 Deep Learning-MSI\\UAS\\UAS debugging\\.venv\\Lib\\site-packages\\torch\\cuda\\nccl.py:16: UserWarning: PyTorch is not compiled with NCCL support\n",
      "  warnings.warn(\"PyTorch is not compiled with NCCL support\")\n",
      "c:\\Users\\Edwar\\OneDrive - Calvin Institute of Technology\\Documents\\CIT\\Semester 9\\IEE3022 Deep Learning-MSI\\UAS\\UAS debugging\\.venv\\Lib\\site-packages\\torch\\nn\\parallel\\data_parallel.py:37: UserWarning: \n",
      "    There is an imbalance between your GPUs. You may want to exclude GPU 1 which\n",
      "    has less than 75% of the memory or cores of GPU 0. You can do so by setting\n",
      "    the device_ids argument to DataParallel, or by setting the CUDA_VISIBLE_DEVICES\n",
      "    environment variable.\n",
      "  warnings.warn(\n"
     ]
    },
    {
     "data": {
      "application/vnd.jupyter.widget-view+json": {
       "model_id": "1e255b392bbb4fb2856cbf416f5f0ff0",
       "version_major": 2,
       "version_minor": 0
      },
      "text/plain": [
       "  0%|          | 0/4 [00:00<?, ?it/s]"
      ]
     },
     "metadata": {},
     "output_type": "display_data"
    },
    {
     "name": "stdout",
     "output_type": "stream",
     "text": [
      "Warning: Empty predictions or labels encountered, or mismatched lengths.\n",
      "{'eval_loss': 1.8403187990188599, 'eval_bleu': 0, 'eval_runtime': 0.9744, 'eval_samples_per_second': 56.444, 'eval_steps_per_second': 4.105, 'epoch': 17.0}\n"
     ]
    },
    {
     "name": "stderr",
     "output_type": "stream",
     "text": [
      "c:\\Users\\Edwar\\OneDrive - Calvin Institute of Technology\\Documents\\CIT\\Semester 9\\IEE3022 Deep Learning-MSI\\UAS\\UAS debugging\\.venv\\Lib\\site-packages\\torch\\nn\\parallel\\_functions.py:71: UserWarning: Was asked to gather along dimension 0, but all input tensors were scalars; will instead unsqueeze and return a vector.\n",
      "  warnings.warn(\n",
      "c:\\Users\\Edwar\\OneDrive - Calvin Institute of Technology\\Documents\\CIT\\Semester 9\\IEE3022 Deep Learning-MSI\\UAS\\UAS debugging\\.venv\\Lib\\site-packages\\torch\\cuda\\nccl.py:16: UserWarning: PyTorch is not compiled with NCCL support\n",
      "  warnings.warn(\"PyTorch is not compiled with NCCL support\")\n"
     ]
    },
    {
     "name": "stdout",
     "output_type": "stream",
     "text": [
      "{'loss': 0.3644, 'grad_norm': 264291.78125, 'learning_rate': 2.023809523809524e-05, 'epoch': 17.86}\n"
     ]
    },
    {
     "name": "stderr",
     "output_type": "stream",
     "text": [
      "c:\\Users\\Edwar\\OneDrive - Calvin Institute of Technology\\Documents\\CIT\\Semester 9\\IEE3022 Deep Learning-MSI\\UAS\\UAS debugging\\.venv\\Lib\\site-packages\\torch\\nn\\parallel\\data_parallel.py:37: UserWarning: \n",
      "    There is an imbalance between your GPUs. You may want to exclude GPU 1 which\n",
      "    has less than 75% of the memory or cores of GPU 0. You can do so by setting\n",
      "    the device_ids argument to DataParallel, or by setting the CUDA_VISIBLE_DEVICES\n",
      "    environment variable.\n",
      "  warnings.warn(\n"
     ]
    },
    {
     "data": {
      "application/vnd.jupyter.widget-view+json": {
       "model_id": "bd15da15bf1e49bfaa7130eeca6edada",
       "version_major": 2,
       "version_minor": 0
      },
      "text/plain": [
       "  0%|          | 0/4 [00:00<?, ?it/s]"
      ]
     },
     "metadata": {},
     "output_type": "display_data"
    },
    {
     "name": "stdout",
     "output_type": "stream",
     "text": [
      "Warning: Empty predictions or labels encountered, or mismatched lengths.\n",
      "{'eval_loss': 1.8545863628387451, 'eval_bleu': 0, 'eval_runtime': 1.0011, 'eval_samples_per_second': 54.939, 'eval_steps_per_second': 3.996, 'epoch': 18.0}\n"
     ]
    },
    {
     "name": "stderr",
     "output_type": "stream",
     "text": [
      "c:\\Users\\Edwar\\OneDrive - Calvin Institute of Technology\\Documents\\CIT\\Semester 9\\IEE3022 Deep Learning-MSI\\UAS\\UAS debugging\\.venv\\Lib\\site-packages\\torch\\nn\\parallel\\_functions.py:71: UserWarning: Was asked to gather along dimension 0, but all input tensors were scalars; will instead unsqueeze and return a vector.\n",
      "  warnings.warn(\n",
      "c:\\Users\\Edwar\\OneDrive - Calvin Institute of Technology\\Documents\\CIT\\Semester 9\\IEE3022 Deep Learning-MSI\\UAS\\UAS debugging\\.venv\\Lib\\site-packages\\torch\\cuda\\nccl.py:16: UserWarning: PyTorch is not compiled with NCCL support\n",
      "  warnings.warn(\"PyTorch is not compiled with NCCL support\")\n",
      "c:\\Users\\Edwar\\OneDrive - Calvin Institute of Technology\\Documents\\CIT\\Semester 9\\IEE3022 Deep Learning-MSI\\UAS\\UAS debugging\\.venv\\Lib\\site-packages\\torch\\nn\\parallel\\data_parallel.py:37: UserWarning: \n",
      "    There is an imbalance between your GPUs. You may want to exclude GPU 1 which\n",
      "    has less than 75% of the memory or cores of GPU 0. You can do so by setting\n",
      "    the device_ids argument to DataParallel, or by setting the CUDA_VISIBLE_DEVICES\n",
      "    environment variable.\n",
      "  warnings.warn(\n"
     ]
    },
    {
     "data": {
      "application/vnd.jupyter.widget-view+json": {
       "model_id": "9cda633c18564f648bee7d4bd0d57de3",
       "version_major": 2,
       "version_minor": 0
      },
      "text/plain": [
       "  0%|          | 0/4 [00:00<?, ?it/s]"
      ]
     },
     "metadata": {},
     "output_type": "display_data"
    },
    {
     "name": "stdout",
     "output_type": "stream",
     "text": [
      "Warning: Empty predictions or labels encountered, or mismatched lengths.\n",
      "{'eval_loss': 1.8562724590301514, 'eval_bleu': 0, 'eval_runtime': 0.961, 'eval_samples_per_second': 57.235, 'eval_steps_per_second': 4.163, 'epoch': 19.0}\n"
     ]
    },
    {
     "name": "stderr",
     "output_type": "stream",
     "text": [
      "c:\\Users\\Edwar\\OneDrive - Calvin Institute of Technology\\Documents\\CIT\\Semester 9\\IEE3022 Deep Learning-MSI\\UAS\\UAS debugging\\.venv\\Lib\\site-packages\\torch\\nn\\parallel\\_functions.py:71: UserWarning: Was asked to gather along dimension 0, but all input tensors were scalars; will instead unsqueeze and return a vector.\n",
      "  warnings.warn(\n",
      "c:\\Users\\Edwar\\OneDrive - Calvin Institute of Technology\\Documents\\CIT\\Semester 9\\IEE3022 Deep Learning-MSI\\UAS\\UAS debugging\\.venv\\Lib\\site-packages\\torch\\cuda\\nccl.py:16: UserWarning: PyTorch is not compiled with NCCL support\n",
      "  warnings.warn(\"PyTorch is not compiled with NCCL support\")\n",
      "c:\\Users\\Edwar\\OneDrive - Calvin Institute of Technology\\Documents\\CIT\\Semester 9\\IEE3022 Deep Learning-MSI\\UAS\\UAS debugging\\.venv\\Lib\\site-packages\\torch\\nn\\parallel\\data_parallel.py:37: UserWarning: \n",
      "    There is an imbalance between your GPUs. You may want to exclude GPU 1 which\n",
      "    has less than 75% of the memory or cores of GPU 0. You can do so by setting\n",
      "    the device_ids argument to DataParallel, or by setting the CUDA_VISIBLE_DEVICES\n",
      "    environment variable.\n",
      "  warnings.warn(\n"
     ]
    },
    {
     "data": {
      "application/vnd.jupyter.widget-view+json": {
       "model_id": "3113579fd5584045902addaa16160d84",
       "version_major": 2,
       "version_minor": 0
      },
      "text/plain": [
       "  0%|          | 0/4 [00:00<?, ?it/s]"
      ]
     },
     "metadata": {},
     "output_type": "display_data"
    },
    {
     "name": "stdout",
     "output_type": "stream",
     "text": [
      "Warning: Empty predictions or labels encountered, or mismatched lengths.\n",
      "{'eval_loss': 1.8523170948028564, 'eval_bleu': 0, 'eval_runtime': 0.9837, 'eval_samples_per_second': 55.912, 'eval_steps_per_second': 4.066, 'epoch': 20.0}\n"
     ]
    },
    {
     "name": "stderr",
     "output_type": "stream",
     "text": [
      "c:\\Users\\Edwar\\OneDrive - Calvin Institute of Technology\\Documents\\CIT\\Semester 9\\IEE3022 Deep Learning-MSI\\UAS\\UAS debugging\\.venv\\Lib\\site-packages\\torch\\nn\\parallel\\_functions.py:71: UserWarning: Was asked to gather along dimension 0, but all input tensors were scalars; will instead unsqueeze and return a vector.\n",
      "  warnings.warn(\n",
      "c:\\Users\\Edwar\\OneDrive - Calvin Institute of Technology\\Documents\\CIT\\Semester 9\\IEE3022 Deep Learning-MSI\\UAS\\UAS debugging\\.venv\\Lib\\site-packages\\torch\\cuda\\nccl.py:16: UserWarning: PyTorch is not compiled with NCCL support\n",
      "  warnings.warn(\"PyTorch is not compiled with NCCL support\")\n",
      "c:\\Users\\Edwar\\OneDrive - Calvin Institute of Technology\\Documents\\CIT\\Semester 9\\IEE3022 Deep Learning-MSI\\UAS\\UAS debugging\\.venv\\Lib\\site-packages\\torch\\nn\\parallel\\data_parallel.py:37: UserWarning: \n",
      "    There is an imbalance between your GPUs. You may want to exclude GPU 1 which\n",
      "    has less than 75% of the memory or cores of GPU 0. You can do so by setting\n",
      "    the device_ids argument to DataParallel, or by setting the CUDA_VISIBLE_DEVICES\n",
      "    environment variable.\n",
      "  warnings.warn(\n"
     ]
    },
    {
     "data": {
      "application/vnd.jupyter.widget-view+json": {
       "model_id": "e80f6e6e0606423c91a9370fd66e3e62",
       "version_major": 2,
       "version_minor": 0
      },
      "text/plain": [
       "  0%|          | 0/4 [00:00<?, ?it/s]"
      ]
     },
     "metadata": {},
     "output_type": "display_data"
    },
    {
     "name": "stdout",
     "output_type": "stream",
     "text": [
      "Warning: Empty predictions or labels encountered, or mismatched lengths.\n",
      "{'eval_loss': 1.8588027954101562, 'eval_bleu': 0, 'eval_runtime': 0.9876, 'eval_samples_per_second': 55.691, 'eval_steps_per_second': 4.05, 'epoch': 21.0}\n"
     ]
    },
    {
     "name": "stderr",
     "output_type": "stream",
     "text": [
      "c:\\Users\\Edwar\\OneDrive - Calvin Institute of Technology\\Documents\\CIT\\Semester 9\\IEE3022 Deep Learning-MSI\\UAS\\UAS debugging\\.venv\\Lib\\site-packages\\torch\\nn\\parallel\\_functions.py:71: UserWarning: Was asked to gather along dimension 0, but all input tensors were scalars; will instead unsqueeze and return a vector.\n",
      "  warnings.warn(\n",
      "c:\\Users\\Edwar\\OneDrive - Calvin Institute of Technology\\Documents\\CIT\\Semester 9\\IEE3022 Deep Learning-MSI\\UAS\\UAS debugging\\.venv\\Lib\\site-packages\\torch\\cuda\\nccl.py:16: UserWarning: PyTorch is not compiled with NCCL support\n",
      "  warnings.warn(\"PyTorch is not compiled with NCCL support\")\n",
      "c:\\Users\\Edwar\\OneDrive - Calvin Institute of Technology\\Documents\\CIT\\Semester 9\\IEE3022 Deep Learning-MSI\\UAS\\UAS debugging\\.venv\\Lib\\site-packages\\torch\\nn\\parallel\\data_parallel.py:37: UserWarning: \n",
      "    There is an imbalance between your GPUs. You may want to exclude GPU 1 which\n",
      "    has less than 75% of the memory or cores of GPU 0. You can do so by setting\n",
      "    the device_ids argument to DataParallel, or by setting the CUDA_VISIBLE_DEVICES\n",
      "    environment variable.\n",
      "  warnings.warn(\n"
     ]
    },
    {
     "data": {
      "application/vnd.jupyter.widget-view+json": {
       "model_id": "e643cbd9fad64fd9859f42c3f90fd4ba",
       "version_major": 2,
       "version_minor": 0
      },
      "text/plain": [
       "  0%|          | 0/4 [00:00<?, ?it/s]"
      ]
     },
     "metadata": {},
     "output_type": "display_data"
    },
    {
     "name": "stdout",
     "output_type": "stream",
     "text": [
      "Warning: Empty predictions or labels encountered, or mismatched lengths.\n",
      "{'eval_loss': 1.8791452646255493, 'eval_bleu': 0, 'eval_runtime': 1.0143, 'eval_samples_per_second': 54.226, 'eval_steps_per_second': 3.944, 'epoch': 22.0}\n"
     ]
    },
    {
     "name": "stderr",
     "output_type": "stream",
     "text": [
      "c:\\Users\\Edwar\\OneDrive - Calvin Institute of Technology\\Documents\\CIT\\Semester 9\\IEE3022 Deep Learning-MSI\\UAS\\UAS debugging\\.venv\\Lib\\site-packages\\torch\\nn\\parallel\\_functions.py:71: UserWarning: Was asked to gather along dimension 0, but all input tensors were scalars; will instead unsqueeze and return a vector.\n",
      "  warnings.warn(\n",
      "c:\\Users\\Edwar\\OneDrive - Calvin Institute of Technology\\Documents\\CIT\\Semester 9\\IEE3022 Deep Learning-MSI\\UAS\\UAS debugging\\.venv\\Lib\\site-packages\\torch\\cuda\\nccl.py:16: UserWarning: PyTorch is not compiled with NCCL support\n",
      "  warnings.warn(\"PyTorch is not compiled with NCCL support\")\n",
      "c:\\Users\\Edwar\\OneDrive - Calvin Institute of Technology\\Documents\\CIT\\Semester 9\\IEE3022 Deep Learning-MSI\\UAS\\UAS debugging\\.venv\\Lib\\site-packages\\torch\\nn\\parallel\\data_parallel.py:37: UserWarning: \n",
      "    There is an imbalance between your GPUs. You may want to exclude GPU 1 which\n",
      "    has less than 75% of the memory or cores of GPU 0. You can do so by setting\n",
      "    the device_ids argument to DataParallel, or by setting the CUDA_VISIBLE_DEVICES\n",
      "    environment variable.\n",
      "  warnings.warn(\n"
     ]
    },
    {
     "data": {
      "application/vnd.jupyter.widget-view+json": {
       "model_id": "e3f906ec76c74646a0e3b5ce6bc7d58f",
       "version_major": 2,
       "version_minor": 0
      },
      "text/plain": [
       "  0%|          | 0/4 [00:00<?, ?it/s]"
      ]
     },
     "metadata": {},
     "output_type": "display_data"
    },
    {
     "name": "stdout",
     "output_type": "stream",
     "text": [
      "Warning: Empty predictions or labels encountered, or mismatched lengths.\n",
      "{'eval_loss': 1.876784086227417, 'eval_bleu': 0, 'eval_runtime': 0.9942, 'eval_samples_per_second': 55.318, 'eval_steps_per_second': 4.023, 'epoch': 23.0}\n"
     ]
    },
    {
     "name": "stderr",
     "output_type": "stream",
     "text": [
      "c:\\Users\\Edwar\\OneDrive - Calvin Institute of Technology\\Documents\\CIT\\Semester 9\\IEE3022 Deep Learning-MSI\\UAS\\UAS debugging\\.venv\\Lib\\site-packages\\torch\\nn\\parallel\\_functions.py:71: UserWarning: Was asked to gather along dimension 0, but all input tensors were scalars; will instead unsqueeze and return a vector.\n",
      "  warnings.warn(\n",
      "c:\\Users\\Edwar\\OneDrive - Calvin Institute of Technology\\Documents\\CIT\\Semester 9\\IEE3022 Deep Learning-MSI\\UAS\\UAS debugging\\.venv\\Lib\\site-packages\\torch\\cuda\\nccl.py:16: UserWarning: PyTorch is not compiled with NCCL support\n",
      "  warnings.warn(\"PyTorch is not compiled with NCCL support\")\n",
      "c:\\Users\\Edwar\\OneDrive - Calvin Institute of Technology\\Documents\\CIT\\Semester 9\\IEE3022 Deep Learning-MSI\\UAS\\UAS debugging\\.venv\\Lib\\site-packages\\torch\\nn\\parallel\\data_parallel.py:37: UserWarning: \n",
      "    There is an imbalance between your GPUs. You may want to exclude GPU 1 which\n",
      "    has less than 75% of the memory or cores of GPU 0. You can do so by setting\n",
      "    the device_ids argument to DataParallel, or by setting the CUDA_VISIBLE_DEVICES\n",
      "    environment variable.\n",
      "  warnings.warn(\n"
     ]
    },
    {
     "data": {
      "application/vnd.jupyter.widget-view+json": {
       "model_id": "6e1b9432d135491e939d65d55c0957ca",
       "version_major": 2,
       "version_minor": 0
      },
      "text/plain": [
       "  0%|          | 0/4 [00:00<?, ?it/s]"
      ]
     },
     "metadata": {},
     "output_type": "display_data"
    },
    {
     "name": "stdout",
     "output_type": "stream",
     "text": [
      "Warning: Empty predictions or labels encountered, or mismatched lengths.\n",
      "{'eval_loss': 1.8675496578216553, 'eval_bleu': 0, 'eval_runtime': 0.9896, 'eval_samples_per_second': 55.579, 'eval_steps_per_second': 4.042, 'epoch': 24.0}\n"
     ]
    },
    {
     "name": "stderr",
     "output_type": "stream",
     "text": [
      "c:\\Users\\Edwar\\OneDrive - Calvin Institute of Technology\\Documents\\CIT\\Semester 9\\IEE3022 Deep Learning-MSI\\UAS\\UAS debugging\\.venv\\Lib\\site-packages\\torch\\nn\\parallel\\_functions.py:71: UserWarning: Was asked to gather along dimension 0, but all input tensors were scalars; will instead unsqueeze and return a vector.\n",
      "  warnings.warn(\n",
      "c:\\Users\\Edwar\\OneDrive - Calvin Institute of Technology\\Documents\\CIT\\Semester 9\\IEE3022 Deep Learning-MSI\\UAS\\UAS debugging\\.venv\\Lib\\site-packages\\torch\\cuda\\nccl.py:16: UserWarning: PyTorch is not compiled with NCCL support\n",
      "  warnings.warn(\"PyTorch is not compiled with NCCL support\")\n",
      "c:\\Users\\Edwar\\OneDrive - Calvin Institute of Technology\\Documents\\CIT\\Semester 9\\IEE3022 Deep Learning-MSI\\UAS\\UAS debugging\\.venv\\Lib\\site-packages\\torch\\nn\\parallel\\data_parallel.py:37: UserWarning: \n",
      "    There is an imbalance between your GPUs. You may want to exclude GPU 1 which\n",
      "    has less than 75% of the memory or cores of GPU 0. You can do so by setting\n",
      "    the device_ids argument to DataParallel, or by setting the CUDA_VISIBLE_DEVICES\n",
      "    environment variable.\n",
      "  warnings.warn(\n"
     ]
    },
    {
     "data": {
      "application/vnd.jupyter.widget-view+json": {
       "model_id": "9ea297132f04402f964fb25f397f4e98",
       "version_major": 2,
       "version_minor": 0
      },
      "text/plain": [
       "  0%|          | 0/4 [00:00<?, ?it/s]"
      ]
     },
     "metadata": {},
     "output_type": "display_data"
    },
    {
     "name": "stdout",
     "output_type": "stream",
     "text": [
      "Warning: Empty predictions or labels encountered, or mismatched lengths.\n",
      "{'eval_loss': 1.8780399560928345, 'eval_bleu': 0, 'eval_runtime': 0.9695, 'eval_samples_per_second': 56.728, 'eval_steps_per_second': 4.126, 'epoch': 25.0}\n"
     ]
    },
    {
     "name": "stderr",
     "output_type": "stream",
     "text": [
      "c:\\Users\\Edwar\\OneDrive - Calvin Institute of Technology\\Documents\\CIT\\Semester 9\\IEE3022 Deep Learning-MSI\\UAS\\UAS debugging\\.venv\\Lib\\site-packages\\torch\\nn\\parallel\\_functions.py:71: UserWarning: Was asked to gather along dimension 0, but all input tensors were scalars; will instead unsqueeze and return a vector.\n",
      "  warnings.warn(\n",
      "c:\\Users\\Edwar\\OneDrive - Calvin Institute of Technology\\Documents\\CIT\\Semester 9\\IEE3022 Deep Learning-MSI\\UAS\\UAS debugging\\.venv\\Lib\\site-packages\\torch\\cuda\\nccl.py:16: UserWarning: PyTorch is not compiled with NCCL support\n",
      "  warnings.warn(\"PyTorch is not compiled with NCCL support\")\n",
      "c:\\Users\\Edwar\\OneDrive - Calvin Institute of Technology\\Documents\\CIT\\Semester 9\\IEE3022 Deep Learning-MSI\\UAS\\UAS debugging\\.venv\\Lib\\site-packages\\torch\\nn\\parallel\\data_parallel.py:37: UserWarning: \n",
      "    There is an imbalance between your GPUs. You may want to exclude GPU 1 which\n",
      "    has less than 75% of the memory or cores of GPU 0. You can do so by setting\n",
      "    the device_ids argument to DataParallel, or by setting the CUDA_VISIBLE_DEVICES\n",
      "    environment variable.\n",
      "  warnings.warn(\n"
     ]
    },
    {
     "data": {
      "application/vnd.jupyter.widget-view+json": {
       "model_id": "c04ae15b65b345b6aa58d954f48fd268",
       "version_major": 2,
       "version_minor": 0
      },
      "text/plain": [
       "  0%|          | 0/4 [00:00<?, ?it/s]"
      ]
     },
     "metadata": {},
     "output_type": "display_data"
    },
    {
     "name": "stdout",
     "output_type": "stream",
     "text": [
      "Warning: Empty predictions or labels encountered, or mismatched lengths.\n",
      "{'eval_loss': 1.8772058486938477, 'eval_bleu': 0, 'eval_runtime': 1.0419, 'eval_samples_per_second': 52.788, 'eval_steps_per_second': 3.839, 'epoch': 26.0}\n"
     ]
    },
    {
     "name": "stderr",
     "output_type": "stream",
     "text": [
      "c:\\Users\\Edwar\\OneDrive - Calvin Institute of Technology\\Documents\\CIT\\Semester 9\\IEE3022 Deep Learning-MSI\\UAS\\UAS debugging\\.venv\\Lib\\site-packages\\torch\\nn\\parallel\\_functions.py:71: UserWarning: Was asked to gather along dimension 0, but all input tensors were scalars; will instead unsqueeze and return a vector.\n",
      "  warnings.warn(\n",
      "c:\\Users\\Edwar\\OneDrive - Calvin Institute of Technology\\Documents\\CIT\\Semester 9\\IEE3022 Deep Learning-MSI\\UAS\\UAS debugging\\.venv\\Lib\\site-packages\\torch\\cuda\\nccl.py:16: UserWarning: PyTorch is not compiled with NCCL support\n",
      "  warnings.warn(\"PyTorch is not compiled with NCCL support\")\n",
      "c:\\Users\\Edwar\\OneDrive - Calvin Institute of Technology\\Documents\\CIT\\Semester 9\\IEE3022 Deep Learning-MSI\\UAS\\UAS debugging\\.venv\\Lib\\site-packages\\torch\\nn\\parallel\\data_parallel.py:37: UserWarning: \n",
      "    There is an imbalance between your GPUs. You may want to exclude GPU 1 which\n",
      "    has less than 75% of the memory or cores of GPU 0. You can do so by setting\n",
      "    the device_ids argument to DataParallel, or by setting the CUDA_VISIBLE_DEVICES\n",
      "    environment variable.\n",
      "  warnings.warn(\n"
     ]
    },
    {
     "data": {
      "application/vnd.jupyter.widget-view+json": {
       "model_id": "321af14a660d44989b211624ded84261",
       "version_major": 2,
       "version_minor": 0
      },
      "text/plain": [
       "  0%|          | 0/4 [00:00<?, ?it/s]"
      ]
     },
     "metadata": {},
     "output_type": "display_data"
    },
    {
     "name": "stdout",
     "output_type": "stream",
     "text": [
      "Warning: Empty predictions or labels encountered, or mismatched lengths.\n",
      "{'eval_loss': 1.888100504875183, 'eval_bleu': 0, 'eval_runtime': 1.0297, 'eval_samples_per_second': 53.414, 'eval_steps_per_second': 3.885, 'epoch': 27.0}\n"
     ]
    },
    {
     "name": "stderr",
     "output_type": "stream",
     "text": [
      "c:\\Users\\Edwar\\OneDrive - Calvin Institute of Technology\\Documents\\CIT\\Semester 9\\IEE3022 Deep Learning-MSI\\UAS\\UAS debugging\\.venv\\Lib\\site-packages\\torch\\nn\\parallel\\_functions.py:71: UserWarning: Was asked to gather along dimension 0, but all input tensors were scalars; will instead unsqueeze and return a vector.\n",
      "  warnings.warn(\n",
      "c:\\Users\\Edwar\\OneDrive - Calvin Institute of Technology\\Documents\\CIT\\Semester 9\\IEE3022 Deep Learning-MSI\\UAS\\UAS debugging\\.venv\\Lib\\site-packages\\torch\\cuda\\nccl.py:16: UserWarning: PyTorch is not compiled with NCCL support\n",
      "  warnings.warn(\"PyTorch is not compiled with NCCL support\")\n",
      "c:\\Users\\Edwar\\OneDrive - Calvin Institute of Technology\\Documents\\CIT\\Semester 9\\IEE3022 Deep Learning-MSI\\UAS\\UAS debugging\\.venv\\Lib\\site-packages\\torch\\nn\\parallel\\data_parallel.py:37: UserWarning: \n",
      "    There is an imbalance between your GPUs. You may want to exclude GPU 1 which\n",
      "    has less than 75% of the memory or cores of GPU 0. You can do so by setting\n",
      "    the device_ids argument to DataParallel, or by setting the CUDA_VISIBLE_DEVICES\n",
      "    environment variable.\n",
      "  warnings.warn(\n"
     ]
    },
    {
     "data": {
      "application/vnd.jupyter.widget-view+json": {
       "model_id": "0cd7b030f8034f7c8d275c106a28d208",
       "version_major": 2,
       "version_minor": 0
      },
      "text/plain": [
       "  0%|          | 0/4 [00:00<?, ?it/s]"
      ]
     },
     "metadata": {},
     "output_type": "display_data"
    },
    {
     "name": "stdout",
     "output_type": "stream",
     "text": [
      "Warning: Empty predictions or labels encountered, or mismatched lengths.\n",
      "{'eval_loss': 1.8937504291534424, 'eval_bleu': 0, 'eval_runtime': 1.0541, 'eval_samples_per_second': 52.179, 'eval_steps_per_second': 3.795, 'epoch': 28.0}\n"
     ]
    },
    {
     "name": "stderr",
     "output_type": "stream",
     "text": [
      "c:\\Users\\Edwar\\OneDrive - Calvin Institute of Technology\\Documents\\CIT\\Semester 9\\IEE3022 Deep Learning-MSI\\UAS\\UAS debugging\\.venv\\Lib\\site-packages\\torch\\nn\\parallel\\_functions.py:71: UserWarning: Was asked to gather along dimension 0, but all input tensors were scalars; will instead unsqueeze and return a vector.\n",
      "  warnings.warn(\n",
      "c:\\Users\\Edwar\\OneDrive - Calvin Institute of Technology\\Documents\\CIT\\Semester 9\\IEE3022 Deep Learning-MSI\\UAS\\UAS debugging\\.venv\\Lib\\site-packages\\torch\\cuda\\nccl.py:16: UserWarning: PyTorch is not compiled with NCCL support\n",
      "  warnings.warn(\"PyTorch is not compiled with NCCL support\")\n",
      "c:\\Users\\Edwar\\OneDrive - Calvin Institute of Technology\\Documents\\CIT\\Semester 9\\IEE3022 Deep Learning-MSI\\UAS\\UAS debugging\\.venv\\Lib\\site-packages\\torch\\nn\\parallel\\data_parallel.py:37: UserWarning: \n",
      "    There is an imbalance between your GPUs. You may want to exclude GPU 1 which\n",
      "    has less than 75% of the memory or cores of GPU 0. You can do so by setting\n",
      "    the device_ids argument to DataParallel, or by setting the CUDA_VISIBLE_DEVICES\n",
      "    environment variable.\n",
      "  warnings.warn(\n"
     ]
    },
    {
     "data": {
      "application/vnd.jupyter.widget-view+json": {
       "model_id": "0a17d559341a4760b31507ca76dcbc24",
       "version_major": 2,
       "version_minor": 0
      },
      "text/plain": [
       "  0%|          | 0/4 [00:00<?, ?it/s]"
      ]
     },
     "metadata": {},
     "output_type": "display_data"
    },
    {
     "name": "stdout",
     "output_type": "stream",
     "text": [
      "Warning: Empty predictions or labels encountered, or mismatched lengths.\n",
      "{'eval_loss': 1.8952534198760986, 'eval_bleu': 0, 'eval_runtime': 1.0411, 'eval_samples_per_second': 52.83, 'eval_steps_per_second': 3.842, 'epoch': 29.0}\n"
     ]
    },
    {
     "name": "stderr",
     "output_type": "stream",
     "text": [
      "c:\\Users\\Edwar\\OneDrive - Calvin Institute of Technology\\Documents\\CIT\\Semester 9\\IEE3022 Deep Learning-MSI\\UAS\\UAS debugging\\.venv\\Lib\\site-packages\\torch\\nn\\parallel\\_functions.py:71: UserWarning: Was asked to gather along dimension 0, but all input tensors were scalars; will instead unsqueeze and return a vector.\n",
      "  warnings.warn(\n",
      "c:\\Users\\Edwar\\OneDrive - Calvin Institute of Technology\\Documents\\CIT\\Semester 9\\IEE3022 Deep Learning-MSI\\UAS\\UAS debugging\\.venv\\Lib\\site-packages\\torch\\cuda\\nccl.py:16: UserWarning: PyTorch is not compiled with NCCL support\n",
      "  warnings.warn(\"PyTorch is not compiled with NCCL support\")\n",
      "c:\\Users\\Edwar\\OneDrive - Calvin Institute of Technology\\Documents\\CIT\\Semester 9\\IEE3022 Deep Learning-MSI\\UAS\\UAS debugging\\.venv\\Lib\\site-packages\\torch\\nn\\parallel\\data_parallel.py:37: UserWarning: \n",
      "    There is an imbalance between your GPUs. You may want to exclude GPU 1 which\n",
      "    has less than 75% of the memory or cores of GPU 0. You can do so by setting\n",
      "    the device_ids argument to DataParallel, or by setting the CUDA_VISIBLE_DEVICES\n",
      "    environment variable.\n",
      "  warnings.warn(\n",
      "c:\\Users\\Edwar\\OneDrive - Calvin Institute of Technology\\Documents\\CIT\\Semester 9\\IEE3022 Deep Learning-MSI\\UAS\\UAS debugging\\.venv\\Lib\\site-packages\\torch\\nn\\parallel\\_functions.py:71: UserWarning: Was asked to gather along dimension 0, but all input tensors were scalars; will instead unsqueeze and return a vector.\n",
      "  warnings.warn(\n"
     ]
    },
    {
     "data": {
      "application/vnd.jupyter.widget-view+json": {
       "model_id": "fe93b938da9f445b9f7923904a74a897",
       "version_major": 2,
       "version_minor": 0
      },
      "text/plain": [
       "  0%|          | 0/4 [00:00<?, ?it/s]"
      ]
     },
     "metadata": {},
     "output_type": "display_data"
    },
    {
     "name": "stdout",
     "output_type": "stream",
     "text": [
      "Warning: Empty predictions or labels encountered, or mismatched lengths.\n",
      "{'eval_loss': 1.8969427347183228, 'eval_bleu': 0, 'eval_runtime': 1.2903, 'eval_samples_per_second': 42.626, 'eval_steps_per_second': 3.1, 'epoch': 30.0}\n"
     ]
    },
    {
     "name": "stderr",
     "output_type": "stream",
     "text": [
      "There were missing keys in the checkpoint model loaded: ['lm_head.weight'].\n"
     ]
    },
    {
     "name": "stdout",
     "output_type": "stream",
     "text": [
      "{'train_runtime': 495.8701, 'train_samples_per_second': 13.189, 'train_steps_per_second': 1.694, 'train_loss': 0.29044576372419084, 'epoch': 30.0}\n"
     ]
    },
    {
     "data": {
      "text/plain": [
       "('./fine_tuned_gpt2_ver1.17\\\\tokenizer_config.json',\n",
       " './fine_tuned_gpt2_ver1.17\\\\special_tokens_map.json',\n",
       " './fine_tuned_gpt2_ver1.17\\\\vocab.json',\n",
       " './fine_tuned_gpt2_ver1.17\\\\merges.txt',\n",
       " './fine_tuned_gpt2_ver1.17\\\\added_tokens.json',\n",
       " './fine_tuned_gpt2_ver1.17\\\\tokenizer.json')"
      ]
     },
     "execution_count": 15,
     "metadata": {},
     "output_type": "execute_result"
    }
   ],
   "source": [
    "# --- Training Code ---\n",
    "\n",
    "# Import necessary libraries\n",
    "import pandas as pd  # For data manipulation\n",
    "from transformers import AutoModelForCausalLM, AutoTokenizer, TrainingArguments, Trainer  # For using the GPT-2 model and training\n",
    "import torch  # For deep learning operations\n",
    "import evaluate  # For evaluating the model\n",
    "from sklearn.model_selection import train_test_split  # For splitting data\n",
    "\n",
    "# Set the device (GPU if available, otherwise CPU)\n",
    "device = torch.device(\"cuda\" if torch.cuda.is_available() else \"cpu\")\n",
    "\n",
    "# Load the dataset from a CSV file\n",
    "df = pd.read_csv(\"youtube_data.csv\")\n",
    "\n",
    "# Convert non-string values in 'video_title' column to strings\n",
    "df['video_title'] = df['video_title'].fillna('').astype(str)\n",
    "\n",
    "# Split data into training and evaluation sets (80% train, 20% eval)\n",
    "train_df, eval_df = train_test_split(df, test_size=0.2) #random_state=42 \n",
    "\n",
    "# Extract video titles for training and evaluation\n",
    "train_titles = train_df['video_title'].tolist()\n",
    "eval_titles = eval_df['video_title'].tolist()\n",
    "\n",
    "# Initialize tokenizer and model\n",
    "# model_name = \"gpt2\"  # Jika mau menggunakan gpt2 (model dasar)\n",
    "model_name = \"EdwardFang09/QuestionableYouTubeVideoTitleV1\"  # Path to your initial fine-tuned model\n",
    "tokenizer = AutoTokenizer.from_pretrained(model_name)  # Load the tokenizer\n",
    "\n",
    "# Add a padding token (often set to EOS token for language models)\n",
    "tokenizer.pad_token = tokenizer.eos_token \n",
    "\n",
    "# Load the pre-trained GPT-2 model\n",
    "model = AutoModelForCausalLM.from_pretrained(model_name)\n",
    "model.to(device)  # Move the model to the appropriate device\n",
    "\n",
    "# Prepare the dataset for training\n",
    "class TitlesDataset(torch.utils.data.Dataset):\n",
    "    def __init__(self, encodings):\n",
    "        self.encodings = encodings  # Store the tokenized encodings\n",
    "\n",
    "    def __getitem__(self, idx):\n",
    "        # Retrieve encoded data and create labels (targets)\n",
    "        item = {key: torch.tensor(val[idx]) for key, val in self.encodings.items()}\n",
    "        item[\"labels\"] = item[\"input_ids\"].clone()  # Labels are the same as input IDs for language modeling\n",
    "        return item\n",
    "\n",
    "    def __len__(self):\n",
    "        return len(self.encodings.input_ids)  # Return the length of the dataset\n",
    "\n",
    "# Tokenize the titles for training and evaluation\n",
    "train_encodings = tokenizer(train_titles, truncation=True, padding=True)  # Truncate long titles and pad shorter ones\n",
    "eval_encodings = tokenizer(eval_titles, truncation=True, padding=True) \n",
    "\n",
    "# Create dataset objects\n",
    "train_dataset = TitlesDataset(train_encodings)\n",
    "eval_dataset = TitlesDataset(eval_encodings)\n",
    "\n",
    "# Define a metric (BLEU in this case)\n",
    "metric = evaluate.load('bleu')  # Load the BLEU metric for evaluation\n",
    "\n",
    "# Define a function to compute the BLEU score\n",
    "def compute_metrics(pred):\n",
    "    labels_ids = pred.label_ids  # Get the true labels\n",
    "    pred_ids = pred.predictions  # Get the predicted labels\n",
    "\n",
    "    # Decode the predicted IDs to text\n",
    "    pred_str = [\n",
    "        tokenizer.decode(ids, skip_special_tokens=True) \n",
    "        for ids in pred_ids \n",
    "        if all(isinstance(x, int) and x >= 0 for x in ids)  # Check for valid integer IDs\n",
    "    ]\n",
    "\n",
    "    # Replace -100 (ignore index) with EOS token ID in true labels\n",
    "    labels_ids[labels_ids == -100] = tokenizer.eos_token_id \n",
    "    label_str = tokenizer.batch_decode(labels_ids, skip_special_tokens=True)  # Decode true labels\n",
    "\n",
    "    # Check if predictions and labels are valid and have the same length\n",
    "    if pred_str and label_str and len(pred_str) == len(label_str):\n",
    "        # Compute the BLEU score\n",
    "        result = metric.compute(predictions=pred_str, references=[[l] for l in label_str])\n",
    "        return {\n",
    "            \"bleu\": result[\"bleu\"],\n",
    "        }\n",
    "    else:\n",
    "        # Handle cases with empty or mismatched predictions and labels\n",
    "        print(\"Warning: Empty predictions or labels encountered, or mismatched lengths.\")\n",
    "        return {\"bleu\": 0}  # Or another appropriate default value\n",
    "\n",
    "# Define training arguments\n",
    "training_args = TrainingArguments(\n",
    "    output_dir=\"./results\",  # Directory to save training outputs\n",
    "    num_train_epochs=30,  # Number of training epochs\n",
    "    per_device_train_batch_size=4,  # Batch size per device\n",
    "    save_steps=1000,  # Save checkpoints every 1000 steps\n",
    "    logging_dir=\"./logs\",  # Directory for training logs\n",
    "    fp16=True,  # Enable mixed precision training (if supported)\n",
    "    evaluation_strategy=\"epoch\",  # Evaluate the model at the end of each epoch\n",
    "    save_strategy=\"epoch\",  # Save the model at the end of each epoch\n",
    "    load_best_model_at_end=True,  # Load the best performing model at the end of training\n",
    "    metric_for_best_model=\"bleu\",  # Use the BLEU score to select the best model\n",
    ")\n",
    "\n",
    "# Define the Trainer\n",
    "trainer = Trainer(\n",
    "    model=model,  # The GPT-2 model to be fine-tuned\n",
    "    args=training_args,  # Training arguments\n",
    "    train_dataset=train_dataset,  # Training dataset\n",
    "    eval_dataset=eval_dataset,  # Evaluation dataset\n",
    "    compute_metrics=compute_metrics,  # Function to compute the evaluation metric\n",
    ")\n",
    "\n",
    "# Fine-tune the model\n",
    "trainer.train()\n",
    "\n",
    "# Save the fine-tuned model and tokenizer\n",
    "trainer.save_model(\"./QuestionableYouTubeVideoTitleV1_finetuned\")  # Save the model\n",
    "tokenizer.save_pretrained(\"./QuestionableYouTubeVideoTitleV1_finetuned\")  # Save the tokenizer\n"
   ]
  },
  {
   "cell_type": "markdown",
   "metadata": {},
   "source": [
    "Prompt here"
   ]
  },
  {
   "cell_type": "code",
   "execution_count": null,
   "metadata": {},
   "outputs": [],
   "source": []
  }
 ],
 "metadata": {
  "kernelspec": {
   "display_name": ".venv",
   "language": "python",
   "name": "python3"
  },
  "language_info": {
   "codemirror_mode": {
    "name": "ipython",
    "version": 3
   },
   "file_extension": ".py",
   "mimetype": "text/x-python",
   "name": "python",
   "nbconvert_exporter": "python",
   "pygments_lexer": "ipython3",
   "version": "3.11.9"
  }
 },
 "nbformat": 4,
 "nbformat_minor": 2
}
